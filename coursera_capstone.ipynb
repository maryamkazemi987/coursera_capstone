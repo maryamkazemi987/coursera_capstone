{
    "cells": [
        {
            "cell_type": "code",
            "execution_count": 2,
            "metadata": {},
            "outputs": [],
            "source": "import pandas as pd"
        },
        {
            "cell_type": "code",
            "execution_count": 3,
            "metadata": {},
            "outputs": [
                {
                    "name": "stderr",
                    "output_type": "stream",
                    "text": "/opt/conda/envs/Python36/lib/python3.6/site-packages/IPython/core/interactiveshell.py:3020: DtypeWarning: Columns (33) have mixed types. Specify dtype option on import or set low_memory=False.\n  interactivity=interactivity, compiler=compiler, result=result)\n"
                },
                {
                    "data": {
                        "text/html": "<div>\n<style scoped>\n    .dataframe tbody tr th:only-of-type {\n        vertical-align: middle;\n    }\n\n    .dataframe tbody tr th {\n        vertical-align: top;\n    }\n\n    .dataframe thead th {\n        text-align: right;\n    }\n</style>\n<table border=\"1\" class=\"dataframe\">\n  <thead>\n    <tr style=\"text-align: right;\">\n      <th></th>\n      <th>SEVERITYCODE</th>\n      <th>X</th>\n      <th>Y</th>\n      <th>OBJECTID</th>\n      <th>INCKEY</th>\n      <th>COLDETKEY</th>\n      <th>REPORTNO</th>\n      <th>STATUS</th>\n      <th>ADDRTYPE</th>\n      <th>INTKEY</th>\n      <th>...</th>\n      <th>ROADCOND</th>\n      <th>LIGHTCOND</th>\n      <th>PEDROWNOTGRNT</th>\n      <th>SDOTCOLNUM</th>\n      <th>SPEEDING</th>\n      <th>ST_COLCODE</th>\n      <th>ST_COLDESC</th>\n      <th>SEGLANEKEY</th>\n      <th>CROSSWALKKEY</th>\n      <th>HITPARKEDCAR</th>\n    </tr>\n  </thead>\n  <tbody>\n    <tr>\n      <th>0</th>\n      <td>2</td>\n      <td>-122.323148</td>\n      <td>47.703140</td>\n      <td>1</td>\n      <td>1307</td>\n      <td>1307</td>\n      <td>3502005</td>\n      <td>Matched</td>\n      <td>Intersection</td>\n      <td>37475.0</td>\n      <td>...</td>\n      <td>Wet</td>\n      <td>Daylight</td>\n      <td>NaN</td>\n      <td>NaN</td>\n      <td>NaN</td>\n      <td>10</td>\n      <td>Entering at angle</td>\n      <td>0</td>\n      <td>0</td>\n      <td>N</td>\n    </tr>\n    <tr>\n      <th>1</th>\n      <td>1</td>\n      <td>-122.347294</td>\n      <td>47.647172</td>\n      <td>2</td>\n      <td>52200</td>\n      <td>52200</td>\n      <td>2607959</td>\n      <td>Matched</td>\n      <td>Block</td>\n      <td>NaN</td>\n      <td>...</td>\n      <td>Wet</td>\n      <td>Dark - Street Lights On</td>\n      <td>NaN</td>\n      <td>6354039.0</td>\n      <td>NaN</td>\n      <td>11</td>\n      <td>From same direction - both going straight - bo...</td>\n      <td>0</td>\n      <td>0</td>\n      <td>N</td>\n    </tr>\n    <tr>\n      <th>2</th>\n      <td>1</td>\n      <td>-122.334540</td>\n      <td>47.607871</td>\n      <td>3</td>\n      <td>26700</td>\n      <td>26700</td>\n      <td>1482393</td>\n      <td>Matched</td>\n      <td>Block</td>\n      <td>NaN</td>\n      <td>...</td>\n      <td>Dry</td>\n      <td>Daylight</td>\n      <td>NaN</td>\n      <td>4323031.0</td>\n      <td>NaN</td>\n      <td>32</td>\n      <td>One parked--one moving</td>\n      <td>0</td>\n      <td>0</td>\n      <td>N</td>\n    </tr>\n    <tr>\n      <th>3</th>\n      <td>1</td>\n      <td>-122.334803</td>\n      <td>47.604803</td>\n      <td>4</td>\n      <td>1144</td>\n      <td>1144</td>\n      <td>3503937</td>\n      <td>Matched</td>\n      <td>Block</td>\n      <td>NaN</td>\n      <td>...</td>\n      <td>Dry</td>\n      <td>Daylight</td>\n      <td>NaN</td>\n      <td>NaN</td>\n      <td>NaN</td>\n      <td>23</td>\n      <td>From same direction - all others</td>\n      <td>0</td>\n      <td>0</td>\n      <td>N</td>\n    </tr>\n    <tr>\n      <th>4</th>\n      <td>2</td>\n      <td>-122.306426</td>\n      <td>47.545739</td>\n      <td>5</td>\n      <td>17700</td>\n      <td>17700</td>\n      <td>1807429</td>\n      <td>Matched</td>\n      <td>Intersection</td>\n      <td>34387.0</td>\n      <td>...</td>\n      <td>Wet</td>\n      <td>Daylight</td>\n      <td>NaN</td>\n      <td>4028032.0</td>\n      <td>NaN</td>\n      <td>10</td>\n      <td>Entering at angle</td>\n      <td>0</td>\n      <td>0</td>\n      <td>N</td>\n    </tr>\n  </tbody>\n</table>\n<p>5 rows \u00d7 38 columns</p>\n</div>",
                        "text/plain": "   SEVERITYCODE           X          Y  OBJECTID  INCKEY  COLDETKEY REPORTNO  \\\n0             2 -122.323148  47.703140         1    1307       1307  3502005   \n1             1 -122.347294  47.647172         2   52200      52200  2607959   \n2             1 -122.334540  47.607871         3   26700      26700  1482393   \n3             1 -122.334803  47.604803         4    1144       1144  3503937   \n4             2 -122.306426  47.545739         5   17700      17700  1807429   \n\n    STATUS      ADDRTYPE   INTKEY  ... ROADCOND                LIGHTCOND  \\\n0  Matched  Intersection  37475.0  ...      Wet                 Daylight   \n1  Matched         Block      NaN  ...      Wet  Dark - Street Lights On   \n2  Matched         Block      NaN  ...      Dry                 Daylight   \n3  Matched         Block      NaN  ...      Dry                 Daylight   \n4  Matched  Intersection  34387.0  ...      Wet                 Daylight   \n\n  PEDROWNOTGRNT  SDOTCOLNUM SPEEDING ST_COLCODE  \\\n0           NaN         NaN      NaN         10   \n1           NaN   6354039.0      NaN         11   \n2           NaN   4323031.0      NaN         32   \n3           NaN         NaN      NaN         23   \n4           NaN   4028032.0      NaN         10   \n\n                                          ST_COLDESC  SEGLANEKEY  \\\n0                                  Entering at angle           0   \n1  From same direction - both going straight - bo...           0   \n2                             One parked--one moving           0   \n3                   From same direction - all others           0   \n4                                  Entering at angle           0   \n\n   CROSSWALKKEY  HITPARKEDCAR  \n0             0             N  \n1             0             N  \n2             0             N  \n3             0             N  \n4             0             N  \n\n[5 rows x 38 columns]"
                    },
                    "execution_count": 3,
                    "metadata": {},
                    "output_type": "execute_result"
                }
            ],
            "source": "# The code was removed by Watson Studio for sharing."
        },
        {
            "cell_type": "code",
            "execution_count": 4,
            "metadata": {},
            "outputs": [
                {
                    "data": {
                        "text/plain": "SEVERITYCODE        int64\nX                 float64\nY                 float64\nOBJECTID            int64\nINCKEY              int64\nCOLDETKEY           int64\nREPORTNO           object\nSTATUS             object\nADDRTYPE           object\nINTKEY            float64\nLOCATION           object\nEXCEPTRSNCODE      object\nEXCEPTRSNDESC      object\nSEVERITYCODE.1      int64\nSEVERITYDESC       object\nCOLLISIONTYPE      object\nPERSONCOUNT         int64\nPEDCOUNT            int64\nPEDCYLCOUNT         int64\nVEHCOUNT            int64\nINCDATE            object\nINCDTTM            object\nJUNCTIONTYPE       object\nSDOT_COLCODE        int64\nSDOT_COLDESC       object\nINATTENTIONIND     object\nUNDERINFL          object\nWEATHER            object\nROADCOND           object\nLIGHTCOND          object\nPEDROWNOTGRNT      object\nSDOTCOLNUM        float64\nSPEEDING           object\nST_COLCODE         object\nST_COLDESC         object\nSEGLANEKEY          int64\nCROSSWALKKEY        int64\nHITPARKEDCAR       object\ndtype: object"
                    },
                    "execution_count": 4,
                    "metadata": {},
                    "output_type": "execute_result"
                }
            ],
            "source": "#cleaning up the data for use\ndf_data_1.dtypes"
        },
        {
            "cell_type": "code",
            "execution_count": 5,
            "metadata": {},
            "outputs": [
                {
                    "data": {
                        "text/html": "<div>\n<style scoped>\n    .dataframe tbody tr th:only-of-type {\n        vertical-align: middle;\n    }\n\n    .dataframe tbody tr th {\n        vertical-align: top;\n    }\n\n    .dataframe thead th {\n        text-align: right;\n    }\n</style>\n<table border=\"1\" class=\"dataframe\">\n  <thead>\n    <tr style=\"text-align: right;\">\n      <th></th>\n      <th>LOCATION</th>\n    </tr>\n  </thead>\n  <tbody>\n    <tr>\n      <th>BATTERY ST TUNNEL NB BETWEEN ALASKAN WY VI NB AND AURORA AVE N</th>\n      <td>276</td>\n    </tr>\n    <tr>\n      <th>BATTERY ST TUNNEL SB BETWEEN AURORA AVE N AND ALASKAN WY VI SB</th>\n      <td>271</td>\n    </tr>\n    <tr>\n      <th>N NORTHGATE WAY BETWEEN MERIDIAN AVE N AND CORLISS AVE N</th>\n      <td>265</td>\n    </tr>\n    <tr>\n      <th>AURORA AVE N BETWEEN N 117TH PL AND N 125TH ST</th>\n      <td>254</td>\n    </tr>\n    <tr>\n      <th>6TH AVE AND JAMES ST</th>\n      <td>252</td>\n    </tr>\n    <tr>\n      <th>AURORA AVE N BETWEEN N 130TH ST AND N 135TH ST</th>\n      <td>239</td>\n    </tr>\n    <tr>\n      <th>ALASKAN WY VI NB BETWEEN S ROYAL BROUGHAM WAY ON RP AND SENECA ST OFF RP</th>\n      <td>238</td>\n    </tr>\n    <tr>\n      <th>RAINIER AVE S BETWEEN S BAYVIEW ST AND S MCCLELLAN ST</th>\n      <td>231</td>\n    </tr>\n    <tr>\n      <th>ALASKAN WY VI SB BETWEEN COLUMBIA ST ON RP AND ALASKAN WY VI SB EFR OFF RP</th>\n      <td>212</td>\n    </tr>\n    <tr>\n      <th>WEST SEATTLE BR EB BETWEEN ALASKAN WY VI NB ON RP AND DELRIDGE-W SEATTLE BR EB ON RP</th>\n      <td>212</td>\n    </tr>\n    <tr>\n      <th>AURORA BR BETWEEN RAYE ST AND BRIDGE WAY N</th>\n      <td>190</td>\n    </tr>\n    <tr>\n      <th>ALASKAN WY VI NB BETWEEN SENECA ST OFF RP AND WESTERN AV OFF RP</th>\n      <td>164</td>\n    </tr>\n    <tr>\n      <th>1ST AVE BETWEEN BLANCHARD ST AND BELL ST</th>\n      <td>161</td>\n    </tr>\n    <tr>\n      <th>5TH AVE AND SPRING ST</th>\n      <td>160</td>\n    </tr>\n    <tr>\n      <th>RAINIER AVE S BETWEEN S HENDERSON ST AND S DIRECTOR N ST</th>\n      <td>152</td>\n    </tr>\n    <tr>\n      <th>RAINIER AVE S BETWEEN S DEARBORN ST AND S CHARLES N ST</th>\n      <td>146</td>\n    </tr>\n    <tr>\n      <th>RAINIER AVE S BETWEEN S CHARLESTOWN ST AND S ANDOVER ST</th>\n      <td>142</td>\n    </tr>\n    <tr>\n      <th>5TH AVE AND UNION ST</th>\n      <td>138</td>\n    </tr>\n    <tr>\n      <th>5TH AVE AND VIRGINIA ST</th>\n      <td>136</td>\n    </tr>\n    <tr>\n      <th>NE NORTHGATE WAY BETWEEN 5TH AVE NE AND 8TH AVE NE</th>\n      <td>136</td>\n    </tr>\n    <tr>\n      <th>OLSON PL SW BETWEEN 1ST AVE S AND 2ND AVE SW</th>\n      <td>133</td>\n    </tr>\n    <tr>\n      <th>MONTLAKE BLVD NE BETWEEN NE PACIFIC PL AND 25TH AVE NE</th>\n      <td>132</td>\n    </tr>\n    <tr>\n      <th>NE NORTHGATE WAY BETWEEN 3RD AVE NE AND 5TH AVE NE</th>\n      <td>131</td>\n    </tr>\n    <tr>\n      <th>RAINIER AVE S BETWEEN S CLOVERDALE ST AND S HENDERSON ST</th>\n      <td>130</td>\n    </tr>\n    <tr>\n      <th>1ST AVE BETWEEN UNION ST AND PIKE ST</th>\n      <td>129</td>\n    </tr>\n    <tr>\n      <th>RAINIER AVE S AND S ORCAS ST</th>\n      <td>128</td>\n    </tr>\n    <tr>\n      <th>5TH AVE AND UNIVERSITY ST</th>\n      <td>128</td>\n    </tr>\n    <tr>\n      <th>12TH AVE AND E MADISON ST</th>\n      <td>128</td>\n    </tr>\n    <tr>\n      <th>S MICHIGAN ST BETWEEN 7TH AVE S AND CORSON AVE S</th>\n      <td>126</td>\n    </tr>\n    <tr>\n      <th>EAST MARGINAL WAY S BETWEEN S FIDALGO ST AND 1ST AVE S</th>\n      <td>125</td>\n    </tr>\n    <tr>\n      <th>...</th>\n      <td>...</td>\n    </tr>\n    <tr>\n      <th>S HORTON ST BETWEEN 4TH AVE S AND DEAD END 1</th>\n      <td>1</td>\n    </tr>\n    <tr>\n      <th>OCCIDENTAL AVE S AND S WALKER ST</th>\n      <td>1</td>\n    </tr>\n    <tr>\n      <th>NW 112TH ST BETWEEN 3RD AVE NW AND DEAD END</th>\n      <td>1</td>\n    </tr>\n    <tr>\n      <th>BEACON AVE S AND S FLETCHER ST</th>\n      <td>1</td>\n    </tr>\n    <tr>\n      <th>SW DAKOTA ST BETWEEN 51ST AVE SW AND 52ND AVE SW</th>\n      <td>1</td>\n    </tr>\n    <tr>\n      <th>34TH AVE NE AND NE 73RD ST</th>\n      <td>1</td>\n    </tr>\n    <tr>\n      <th>WALLINGFORD AVE N AND N 55TH ST</th>\n      <td>1</td>\n    </tr>\n    <tr>\n      <th>55TH AVE S BETWEEN S CRESTON ST AND S BANGOR ST</th>\n      <td>1</td>\n    </tr>\n    <tr>\n      <th>BEACON WR AVE S AND CECIL AVE S</th>\n      <td>1</td>\n    </tr>\n    <tr>\n      <th>E PROSPECT ST BETWEEN 14TH AVE E AND 15TH S AVE E</th>\n      <td>1</td>\n    </tr>\n    <tr>\n      <th>STURGUS AVE S AND S ATLANTIC ST</th>\n      <td>1</td>\n    </tr>\n    <tr>\n      <th>CORLISS AVE N BETWEEN N 38TH ST AND N 39TH ST</th>\n      <td>1</td>\n    </tr>\n    <tr>\n      <th>SW GENESEE ST BETWEEN FAUNTLEROY W WAY SW AND 36TH AVE SW</th>\n      <td>1</td>\n    </tr>\n    <tr>\n      <th>11TH AVE NW AND NW 92ND ST</th>\n      <td>1</td>\n    </tr>\n    <tr>\n      <th>34TH AVE SW AND SW MANNING ST</th>\n      <td>1</td>\n    </tr>\n    <tr>\n      <th>S THISTLE ST BETWEEN DEAD END 2 AND RAINIER AVE S</th>\n      <td>1</td>\n    </tr>\n    <tr>\n      <th>34TH AVE S BETWEEN CLAREMONT PL S AND S DAKOTA ST</th>\n      <td>1</td>\n    </tr>\n    <tr>\n      <th>W RAYE ST BETWEEN 4TH AVE W AND 5TH N AVE W</th>\n      <td>1</td>\n    </tr>\n    <tr>\n      <th>7TH AVE W AND W BLAINE ST</th>\n      <td>1</td>\n    </tr>\n    <tr>\n      <th>39TH AVE SW BETWEEN DEAD END 1 AND SW TRENTON ST</th>\n      <td>1</td>\n    </tr>\n    <tr>\n      <th>I5 NB - W SEATTLE BR RP BETWEEN I5 NB - COLUMBIAN WY RP AND I5 NB - 6TH AV S RP</th>\n      <td>1</td>\n    </tr>\n    <tr>\n      <th>8TH AVE W BETWEEN W ARMOUR ST AND W FULTON ST</th>\n      <td>1</td>\n    </tr>\n    <tr>\n      <th>40TH AVE NE BETWEEN NE 120TH ST AND NE 123RD ST</th>\n      <td>1</td>\n    </tr>\n    <tr>\n      <th>18TH AVE E BETWEEN DEAD END 2 AND BOYER AVE E</th>\n      <td>1</td>\n    </tr>\n    <tr>\n      <th>22ND AVE SW BETWEEN SW ELMGROVE ST AND SW THISTLE ST</th>\n      <td>1</td>\n    </tr>\n    <tr>\n      <th>30TH AVE S BETWEEN S HUDSON ST AND S DAWSON ST</th>\n      <td>1</td>\n    </tr>\n    <tr>\n      <th>31ST AVE SW AND 31ST PL SW</th>\n      <td>1</td>\n    </tr>\n    <tr>\n      <th>NW 83RD ST BETWEEN 22ND AVE NW AND 23RD AVE NW</th>\n      <td>1</td>\n    </tr>\n    <tr>\n      <th>44TH PL NE AND NE 94TH ST</th>\n      <td>1</td>\n    </tr>\n    <tr>\n      <th>ASHWORTH AVE N AND N 57TH ST</th>\n      <td>1</td>\n    </tr>\n  </tbody>\n</table>\n<p>24102 rows \u00d7 1 columns</p>\n</div>",
                        "text/plain": "                                                    LOCATION\nBATTERY ST TUNNEL NB BETWEEN ALASKAN WY VI NB A...       276\nBATTERY ST TUNNEL SB BETWEEN AURORA AVE N AND A...       271\nN NORTHGATE WAY BETWEEN MERIDIAN AVE N AND CORL...       265\nAURORA AVE N BETWEEN N 117TH PL AND N 125TH ST           254\n6TH AVE AND JAMES ST                                     252\nAURORA AVE N BETWEEN N 130TH ST AND N 135TH ST           239\nALASKAN WY VI NB BETWEEN S ROYAL BROUGHAM WAY O...       238\nRAINIER AVE S BETWEEN S BAYVIEW ST AND S MCCLEL...       231\nALASKAN WY VI SB BETWEEN COLUMBIA ST ON RP AND ...       212\nWEST SEATTLE BR EB BETWEEN ALASKAN WY VI NB ON ...       212\nAURORA BR BETWEEN RAYE ST AND BRIDGE WAY N               190\nALASKAN WY VI NB BETWEEN SENECA ST OFF RP AND W...       164\n1ST AVE BETWEEN BLANCHARD ST AND BELL ST                 161\n5TH AVE AND SPRING ST                                    160\nRAINIER AVE S BETWEEN S HENDERSON ST AND S DIRE...       152\nRAINIER AVE S BETWEEN S DEARBORN ST AND S CHARL...       146\nRAINIER AVE S BETWEEN S CHARLESTOWN ST AND S AN...       142\n5TH AVE AND UNION ST                                     138\n5TH AVE AND VIRGINIA ST                                  136\nNE NORTHGATE WAY BETWEEN 5TH AVE NE AND 8TH AVE NE       136\nOLSON PL SW BETWEEN 1ST AVE S AND 2ND AVE SW             133\nMONTLAKE BLVD NE BETWEEN NE PACIFIC PL AND 25TH...       132\nNE NORTHGATE WAY BETWEEN 3RD AVE NE AND 5TH AVE NE       131\nRAINIER AVE S BETWEEN S CLOVERDALE ST AND S HEN...       130\n1ST AVE BETWEEN UNION ST AND PIKE ST                     129\nRAINIER AVE S AND S ORCAS ST                             128\n5TH AVE AND UNIVERSITY ST                                128\n12TH AVE AND E MADISON ST                                128\nS MICHIGAN ST BETWEEN 7TH AVE S AND CORSON AVE S         126\nEAST MARGINAL WAY S BETWEEN S FIDALGO ST AND 1S...       125\n...                                                      ...\nS HORTON ST BETWEEN 4TH AVE S AND DEAD END 1               1\nOCCIDENTAL AVE S AND S WALKER ST                           1\nNW 112TH ST BETWEEN 3RD AVE NW AND DEAD END                1\nBEACON AVE S AND S FLETCHER ST                             1\nSW DAKOTA ST BETWEEN 51ST AVE SW AND 52ND AVE SW           1\n34TH AVE NE AND NE 73RD ST                                 1\nWALLINGFORD AVE N AND N 55TH ST                            1\n55TH AVE S BETWEEN S CRESTON ST AND S BANGOR ST            1\nBEACON WR AVE S AND CECIL AVE S                            1\nE PROSPECT ST BETWEEN 14TH AVE E AND 15TH S AVE E          1\nSTURGUS AVE S AND S ATLANTIC ST                            1\nCORLISS AVE N BETWEEN N 38TH ST AND N 39TH ST              1\nSW GENESEE ST BETWEEN FAUNTLEROY W WAY SW AND 3...         1\n11TH AVE NW AND NW 92ND ST                                 1\n34TH AVE SW AND SW MANNING ST                              1\nS THISTLE ST BETWEEN DEAD END 2 AND RAINIER AVE S          1\n34TH AVE S BETWEEN CLAREMONT PL S AND S DAKOTA ST          1\nW RAYE ST BETWEEN 4TH AVE W AND 5TH N AVE W                1\n7TH AVE W AND W BLAINE ST                                  1\n39TH AVE SW BETWEEN DEAD END 1 AND SW TRENTON ST           1\nI5 NB - W SEATTLE BR RP BETWEEN I5 NB - COLUMBI...         1\n8TH AVE W BETWEEN W ARMOUR ST AND W FULTON ST              1\n40TH AVE NE BETWEEN NE 120TH ST AND NE 123RD ST            1\n18TH AVE E BETWEEN DEAD END 2 AND BOYER AVE E              1\n22ND AVE SW BETWEEN SW ELMGROVE ST AND SW THIST...         1\n30TH AVE S BETWEEN S HUDSON ST AND S DAWSON ST             1\n31ST AVE SW AND 31ST PL SW                                 1\nNW 83RD ST BETWEEN 22ND AVE NW AND 23RD AVE NW             1\n44TH PL NE AND NE 94TH ST                                  1\nASHWORTH AVE N AND N 57TH ST                               1\n\n[24102 rows x 1 columns]"
                    },
                    "execution_count": 5,
                    "metadata": {},
                    "output_type": "execute_result"
                }
            ],
            "source": "#in order tp get idea of where accidnts hotspot \ndf_data_1['LOCATION'].value_counts().to_frame()"
        },
        {
            "cell_type": "code",
            "execution_count": 6,
            "metadata": {},
            "outputs": [
                {
                    "data": {
                        "text/html": "<div>\n<style scoped>\n    .dataframe tbody tr th:only-of-type {\n        vertical-align: middle;\n    }\n\n    .dataframe tbody tr th {\n        vertical-align: top;\n    }\n\n    .dataframe thead th {\n        text-align: right;\n    }\n</style>\n<table border=\"1\" class=\"dataframe\">\n  <thead>\n    <tr style=\"text-align: right;\">\n      <th></th>\n      <th>LIGHTCOND</th>\n    </tr>\n  </thead>\n  <tbody>\n    <tr>\n      <th>Daylight</th>\n      <td>116137</td>\n    </tr>\n    <tr>\n      <th>Dark - Street Lights On</th>\n      <td>48507</td>\n    </tr>\n    <tr>\n      <th>Unknown</th>\n      <td>13473</td>\n    </tr>\n    <tr>\n      <th>Dusk</th>\n      <td>5902</td>\n    </tr>\n    <tr>\n      <th>Dawn</th>\n      <td>2502</td>\n    </tr>\n    <tr>\n      <th>Dark - No Street Lights</th>\n      <td>1537</td>\n    </tr>\n    <tr>\n      <th>Dark - Street Lights Off</th>\n      <td>1199</td>\n    </tr>\n    <tr>\n      <th>Other</th>\n      <td>235</td>\n    </tr>\n    <tr>\n      <th>Dark - Unknown Lighting</th>\n      <td>11</td>\n    </tr>\n  </tbody>\n</table>\n</div>",
                        "text/plain": "                          LIGHTCOND\nDaylight                     116137\nDark - Street Lights On       48507\nUnknown                       13473\nDusk                           5902\nDawn                           2502\nDark - No Street Lights        1537\nDark - Street Lights Off       1199\nOther                           235\nDark - Unknown Lighting          11"
                    },
                    "execution_count": 6,
                    "metadata": {},
                    "output_type": "execute_result"
                }
            ],
            "source": "#to see the breakdowns of accidents occurring during the different light conditions\ndf_data_1['LIGHTCOND'].value_counts().to_frame()"
        },
        {
            "cell_type": "code",
            "execution_count": 9,
            "metadata": {},
            "outputs": [
                {
                    "data": {
                        "text/html": "<div>\n<style scoped>\n    .dataframe tbody tr th:only-of-type {\n        vertical-align: middle;\n    }\n\n    .dataframe tbody tr th {\n        vertical-align: top;\n    }\n\n    .dataframe thead th {\n        text-align: right;\n    }\n</style>\n<table border=\"1\" class=\"dataframe\">\n  <thead>\n    <tr style=\"text-align: right;\">\n      <th></th>\n      <th>SEVERITYCODE</th>\n      <th>LOCATION</th>\n      <th>LIGHTCOND</th>\n    </tr>\n  </thead>\n  <tbody>\n    <tr>\n      <th>0</th>\n      <td>2</td>\n      <td>5TH AVE NE AND NE 103RD ST</td>\n      <td>Daylight</td>\n    </tr>\n    <tr>\n      <th>1</th>\n      <td>1</td>\n      <td>AURORA BR BETWEEN RAYE ST AND BRIDGE WAY N</td>\n      <td>Dark - Street Lights On</td>\n    </tr>\n    <tr>\n      <th>2</th>\n      <td>1</td>\n      <td>4TH AVE BETWEEN SENECA ST AND UNIVERSITY ST</td>\n      <td>Daylight</td>\n    </tr>\n    <tr>\n      <th>3</th>\n      <td>1</td>\n      <td>2ND AVE BETWEEN MARION ST AND MADISON ST</td>\n      <td>Daylight</td>\n    </tr>\n    <tr>\n      <th>4</th>\n      <td>2</td>\n      <td>SWIFT AVE S AND SWIFT AV OFF RP</td>\n      <td>Daylight</td>\n    </tr>\n  </tbody>\n</table>\n</div>",
                        "text/plain": "   SEVERITYCODE                                     LOCATION  \\\n0             2                   5TH AVE NE AND NE 103RD ST   \n1             1   AURORA BR BETWEEN RAYE ST AND BRIDGE WAY N   \n2             1  4TH AVE BETWEEN SENECA ST AND UNIVERSITY ST   \n3             1     2ND AVE BETWEEN MARION ST AND MADISON ST   \n4             2              SWIFT AVE S AND SWIFT AV OFF RP   \n\n                 LIGHTCOND  \n0                 Daylight  \n1  Dark - Street Lights On  \n2                 Daylight  \n3                 Daylight  \n4                 Daylight  "
                    },
                    "execution_count": 9,
                    "metadata": {},
                    "output_type": "execute_result"
                }
            ],
            "source": "#create a new df with the data of interest\ndf_data_1_StreetLights=df_data_1.filter(['SEVERITYCODE','LOCATION','LIGHTCOND'], axis=1)\ndf_data_1_StreetLights.head()"
        },
        {
            "cell_type": "code",
            "execution_count": 10,
            "metadata": {},
            "outputs": [
                {
                    "name": "stdout",
                    "output_type": "stream",
                    "text": "Solving environment: done\n\n## Package Plan ##\n\n  environment location: /opt/conda/envs/Python36\n\n  added / updated specs: \n    - seaborn\n\n\nThe following packages will be downloaded:\n\n    package                    |            build\n    ---------------------------|-----------------\n    openssl-1.1.1g             |       h7b6447c_0         3.8 MB  anaconda\n    ca-certificates-2020.7.22  |                0         132 KB  anaconda\n    certifi-2020.6.20          |           py36_0         160 KB  anaconda\n    seaborn-0.10.1             |             py_0         160 KB  anaconda\n    ------------------------------------------------------------\n                                           Total:         4.2 MB\n\nThe following packages will be UPDATED:\n\n    ca-certificates: 2020.7.22-0        --> 2020.7.22-0       anaconda\n    certifi:         2020.6.20-py36_0   --> 2020.6.20-py36_0  anaconda\n    openssl:         1.1.1g-h7b6447c_0  --> 1.1.1g-h7b6447c_0 anaconda\n    seaborn:         0.9.0-pyh91ea838_1 --> 0.10.1-py_0       anaconda\n\n\nDownloading and Extracting Packages\nopenssl-1.1.1g       | 3.8 MB    | ##################################### | 100% \nca-certificates-2020 | 132 KB    | ##################################### | 100% \ncertifi-2020.6.20    | 160 KB    | ##################################### | 100% \nseaborn-0.10.1       | 160 KB    | ##################################### | 100% \nPreparing transaction: done\nVerifying transaction: done\nExecuting transaction: done\n"
                }
            ],
            "source": "# notice: installing seaborn might takes a few minutes\n!conda install -c anaconda seaborn -y"
        },
        {
            "cell_type": "code",
            "execution_count": null,
            "metadata": {},
            "outputs": [
                {
                    "ename": "TypeError",
                    "evalue": "ufunc 'multiply' did not contain a loop with signature matching types dtype('<U32') dtype('<U32') dtype('<U32')",
                    "output_type": "error",
                    "traceback": [
                        "\u001b[0;31m---------------------------------------------------------------------------\u001b[0m",
                        "\u001b[0;31mTypeError\u001b[0m                                 Traceback (most recent call last)",
                        "\u001b[0;32m<ipython-input-13-d0f5877dac51>\u001b[0m in \u001b[0;36m<module>\u001b[0;34m\u001b[0m\n\u001b[1;32m      2\u001b[0m \u001b[0;32mimport\u001b[0m \u001b[0mseaborn\u001b[0m \u001b[0;32mas\u001b[0m \u001b[0msns\u001b[0m\u001b[0;34m\u001b[0m\u001b[0;34m\u001b[0m\u001b[0m\n\u001b[1;32m      3\u001b[0m \u001b[0;31m#use regplot in order to show any correlation\u001b[0m\u001b[0;34m\u001b[0m\u001b[0;34m\u001b[0m\u001b[0;34m\u001b[0m\u001b[0m\n\u001b[0;32m----> 4\u001b[0;31m \u001b[0msns\u001b[0m\u001b[0;34m.\u001b[0m\u001b[0mregplot\u001b[0m\u001b[0;34m(\u001b[0m\u001b[0mx\u001b[0m\u001b[0;34m=\u001b[0m\u001b[0;34m\"LIGHTCOND\"\u001b[0m\u001b[0;34m,\u001b[0m \u001b[0my\u001b[0m\u001b[0;34m=\u001b[0m\u001b[0;34m\"LOCATION\"\u001b[0m\u001b[0;34m,\u001b[0m \u001b[0mdata\u001b[0m\u001b[0;34m=\u001b[0m\u001b[0mdf_data_1_StreetLights\u001b[0m\u001b[0;34m)\u001b[0m\u001b[0;34m\u001b[0m\u001b[0;34m\u001b[0m\u001b[0m\n\u001b[0m",
                        "\u001b[0;32m/opt/conda/envs/Python36/lib/python3.6/site-packages/seaborn/regression.py\u001b[0m in \u001b[0;36mregplot\u001b[0;34m(x, y, data, x_estimator, x_bins, x_ci, scatter, fit_reg, ci, n_boot, units, seed, order, logistic, lowess, robust, logx, x_partial, y_partial, truncate, dropna, x_jitter, y_jitter, label, color, marker, scatter_kws, line_kws, ax)\u001b[0m\n\u001b[1;32m    815\u001b[0m     \u001b[0mscatter_kws\u001b[0m\u001b[0;34m[\u001b[0m\u001b[0;34m\"marker\"\u001b[0m\u001b[0;34m]\u001b[0m \u001b[0;34m=\u001b[0m \u001b[0mmarker\u001b[0m\u001b[0;34m\u001b[0m\u001b[0;34m\u001b[0m\u001b[0m\n\u001b[1;32m    816\u001b[0m     \u001b[0mline_kws\u001b[0m \u001b[0;34m=\u001b[0m \u001b[0;34m{\u001b[0m\u001b[0;34m}\u001b[0m \u001b[0;32mif\u001b[0m \u001b[0mline_kws\u001b[0m \u001b[0;32mis\u001b[0m \u001b[0;32mNone\u001b[0m \u001b[0;32melse\u001b[0m \u001b[0mcopy\u001b[0m\u001b[0;34m.\u001b[0m\u001b[0mcopy\u001b[0m\u001b[0;34m(\u001b[0m\u001b[0mline_kws\u001b[0m\u001b[0;34m)\u001b[0m\u001b[0;34m\u001b[0m\u001b[0;34m\u001b[0m\u001b[0m\n\u001b[0;32m--> 817\u001b[0;31m     \u001b[0mplotter\u001b[0m\u001b[0;34m.\u001b[0m\u001b[0mplot\u001b[0m\u001b[0;34m(\u001b[0m\u001b[0max\u001b[0m\u001b[0;34m,\u001b[0m \u001b[0mscatter_kws\u001b[0m\u001b[0;34m,\u001b[0m \u001b[0mline_kws\u001b[0m\u001b[0;34m)\u001b[0m\u001b[0;34m\u001b[0m\u001b[0;34m\u001b[0m\u001b[0m\n\u001b[0m\u001b[1;32m    818\u001b[0m     \u001b[0;32mreturn\u001b[0m \u001b[0max\u001b[0m\u001b[0;34m\u001b[0m\u001b[0;34m\u001b[0m\u001b[0m\n\u001b[1;32m    819\u001b[0m \u001b[0;34m\u001b[0m\u001b[0m\n",
                        "\u001b[0;32m/opt/conda/envs/Python36/lib/python3.6/site-packages/seaborn/regression.py\u001b[0m in \u001b[0;36mplot\u001b[0;34m(self, ax, scatter_kws, line_kws)\u001b[0m\n\u001b[1;32m    367\u001b[0m \u001b[0;34m\u001b[0m\u001b[0m\n\u001b[1;32m    368\u001b[0m         \u001b[0;32mif\u001b[0m \u001b[0mself\u001b[0m\u001b[0;34m.\u001b[0m\u001b[0mfit_reg\u001b[0m\u001b[0;34m:\u001b[0m\u001b[0;34m\u001b[0m\u001b[0;34m\u001b[0m\u001b[0m\n\u001b[0;32m--> 369\u001b[0;31m             \u001b[0mself\u001b[0m\u001b[0;34m.\u001b[0m\u001b[0mlineplot\u001b[0m\u001b[0;34m(\u001b[0m\u001b[0max\u001b[0m\u001b[0;34m,\u001b[0m \u001b[0mline_kws\u001b[0m\u001b[0;34m)\u001b[0m\u001b[0;34m\u001b[0m\u001b[0;34m\u001b[0m\u001b[0m\n\u001b[0m\u001b[1;32m    370\u001b[0m \u001b[0;34m\u001b[0m\u001b[0m\n\u001b[1;32m    371\u001b[0m         \u001b[0;31m# Label the axes\u001b[0m\u001b[0;34m\u001b[0m\u001b[0;34m\u001b[0m\u001b[0;34m\u001b[0m\u001b[0m\n",
                        "\u001b[0;32m/opt/conda/envs/Python36/lib/python3.6/site-packages/seaborn/regression.py\u001b[0m in \u001b[0;36mlineplot\u001b[0;34m(self, ax, kws)\u001b[0m\n\u001b[1;32m    410\u001b[0m         \u001b[0;34m\"\"\"Draw the model.\"\"\"\u001b[0m\u001b[0;34m\u001b[0m\u001b[0;34m\u001b[0m\u001b[0m\n\u001b[1;32m    411\u001b[0m         \u001b[0;31m# Fit the regression model\u001b[0m\u001b[0;34m\u001b[0m\u001b[0;34m\u001b[0m\u001b[0;34m\u001b[0m\u001b[0m\n\u001b[0;32m--> 412\u001b[0;31m         \u001b[0mgrid\u001b[0m\u001b[0;34m,\u001b[0m \u001b[0myhat\u001b[0m\u001b[0;34m,\u001b[0m \u001b[0merr_bands\u001b[0m \u001b[0;34m=\u001b[0m \u001b[0mself\u001b[0m\u001b[0;34m.\u001b[0m\u001b[0mfit_regression\u001b[0m\u001b[0;34m(\u001b[0m\u001b[0max\u001b[0m\u001b[0;34m)\u001b[0m\u001b[0;34m\u001b[0m\u001b[0;34m\u001b[0m\u001b[0m\n\u001b[0m\u001b[1;32m    413\u001b[0m         \u001b[0medges\u001b[0m \u001b[0;34m=\u001b[0m \u001b[0mgrid\u001b[0m\u001b[0;34m[\u001b[0m\u001b[0;36m0\u001b[0m\u001b[0;34m]\u001b[0m\u001b[0;34m,\u001b[0m \u001b[0mgrid\u001b[0m\u001b[0;34m[\u001b[0m\u001b[0;34m-\u001b[0m\u001b[0;36m1\u001b[0m\u001b[0;34m]\u001b[0m\u001b[0;34m\u001b[0m\u001b[0;34m\u001b[0m\u001b[0m\n\u001b[1;32m    414\u001b[0m \u001b[0;34m\u001b[0m\u001b[0m\n",
                        "\u001b[0;32m/opt/conda/envs/Python36/lib/python3.6/site-packages/seaborn/regression.py\u001b[0m in \u001b[0;36mfit_regression\u001b[0;34m(self, ax, x_range, grid)\u001b[0m\n\u001b[1;32m    198\u001b[0m                 \u001b[0;32melse\u001b[0m\u001b[0;34m:\u001b[0m\u001b[0;34m\u001b[0m\u001b[0;34m\u001b[0m\u001b[0m\n\u001b[1;32m    199\u001b[0m                     \u001b[0mx_min\u001b[0m\u001b[0;34m,\u001b[0m \u001b[0mx_max\u001b[0m \u001b[0;34m=\u001b[0m \u001b[0max\u001b[0m\u001b[0;34m.\u001b[0m\u001b[0mget_xlim\u001b[0m\u001b[0;34m(\u001b[0m\u001b[0;34m)\u001b[0m\u001b[0;34m\u001b[0m\u001b[0;34m\u001b[0m\u001b[0m\n\u001b[0;32m--> 200\u001b[0;31m             \u001b[0mgrid\u001b[0m \u001b[0;34m=\u001b[0m \u001b[0mnp\u001b[0m\u001b[0;34m.\u001b[0m\u001b[0mlinspace\u001b[0m\u001b[0;34m(\u001b[0m\u001b[0mx_min\u001b[0m\u001b[0;34m,\u001b[0m \u001b[0mx_max\u001b[0m\u001b[0;34m,\u001b[0m \u001b[0;36m100\u001b[0m\u001b[0;34m)\u001b[0m\u001b[0;34m\u001b[0m\u001b[0;34m\u001b[0m\u001b[0m\n\u001b[0m\u001b[1;32m    201\u001b[0m         \u001b[0mci\u001b[0m \u001b[0;34m=\u001b[0m \u001b[0mself\u001b[0m\u001b[0;34m.\u001b[0m\u001b[0mci\u001b[0m\u001b[0;34m\u001b[0m\u001b[0;34m\u001b[0m\u001b[0m\n\u001b[1;32m    202\u001b[0m \u001b[0;34m\u001b[0m\u001b[0m\n",
                        "\u001b[0;32m/opt/conda/envs/Python36/lib/python3.6/site-packages/numpy/core/function_base.py\u001b[0m in \u001b[0;36mlinspace\u001b[0;34m(start, stop, num, endpoint, retstep, dtype)\u001b[0m\n\u001b[1;32m    106\u001b[0m     \u001b[0;31m# Convert float/complex array scalars to float, gh-3504\u001b[0m\u001b[0;34m\u001b[0m\u001b[0;34m\u001b[0m\u001b[0;34m\u001b[0m\u001b[0m\n\u001b[1;32m    107\u001b[0m     \u001b[0;31m# and make sure one can use variables that have an __array_interface__, gh-6634\u001b[0m\u001b[0;34m\u001b[0m\u001b[0;34m\u001b[0m\u001b[0;34m\u001b[0m\u001b[0m\n\u001b[0;32m--> 108\u001b[0;31m     \u001b[0mstart\u001b[0m \u001b[0;34m=\u001b[0m \u001b[0masanyarray\u001b[0m\u001b[0;34m(\u001b[0m\u001b[0mstart\u001b[0m\u001b[0;34m)\u001b[0m \u001b[0;34m*\u001b[0m \u001b[0;36m1.0\u001b[0m\u001b[0;34m\u001b[0m\u001b[0;34m\u001b[0m\u001b[0m\n\u001b[0m\u001b[1;32m    109\u001b[0m     \u001b[0mstop\u001b[0m  \u001b[0;34m=\u001b[0m \u001b[0masanyarray\u001b[0m\u001b[0;34m(\u001b[0m\u001b[0mstop\u001b[0m\u001b[0;34m)\u001b[0m  \u001b[0;34m*\u001b[0m \u001b[0;36m1.0\u001b[0m\u001b[0;34m\u001b[0m\u001b[0;34m\u001b[0m\u001b[0m\n\u001b[1;32m    110\u001b[0m \u001b[0;34m\u001b[0m\u001b[0m\n",
                        "\u001b[0;31mTypeError\u001b[0m: ufunc 'multiply' did not contain a loop with signature matching types dtype('<U32') dtype('<U32') dtype('<U32')"
                    ]
                }
            ],
            "source": "import matplotlib.pyplot as plt\nimport seaborn as sns\n#use regplot in order to show any correlation\nsns.regplot(x=\"LIGHTCOND\", y=\"LOCATION\", data=df_data_1_StreetLights)"
        },
        {
            "cell_type": "code",
            "execution_count": null,
            "metadata": {},
            "outputs": [],
            "source": "import matplotlib.pyplot as plt\nimport seaborn as sns\n#convert the light condition data type from an object to integer\ndf_data_1_StreetLights['LIGHTCOND'].astype(str).astype(int)\n#use regplot in order to determine any correlation\nsns.regplot(x='LIGHTCOND', y='LOCATION', data=df_data_1_StreetLights)"
        },
        {
            "cell_type": "code",
            "execution_count": null,
            "metadata": {},
            "outputs": [],
            "source": "#create ne dataframe\ndf_data_1_DarkStreet['LOCATION'].value_counts().to_frame()"
        },
        {
            "cell_type": "code",
            "execution_count": null,
            "metadata": {},
            "outputs": [],
            "source": "#determine the severity of accidents when the lightcond is \"Dark_ No street Lights\"\ndf_data_1_DarkStreet['SEVERITYCODE'].value_counts().to_frame()"
        },
        {
            "cell_type": "code",
            "execution_count": null,
            "metadata": {},
            "outputs": [],
            "source": ""
        }
    ],
    "metadata": {
        "kernelspec": {
            "display_name": "Python 3.6",
            "language": "python",
            "name": "python3"
        },
        "language_info": {
            "codemirror_mode": {
                "name": "ipython",
                "version": 3
            },
            "file_extension": ".py",
            "mimetype": "text/x-python",
            "name": "python",
            "nbconvert_exporter": "python",
            "pygments_lexer": "ipython3",
            "version": "3.6.9"
        }
    },
    "nbformat": 4,
    "nbformat_minor": 1
}